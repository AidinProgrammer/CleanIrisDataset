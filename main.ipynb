{
  "nbformat": 4,
  "nbformat_minor": 0,
  "metadata": {
    "colab": {
      "provenance": [],
      "authorship_tag": "ABX9TyN5nO+JezpQ8j1F4GwfEDTc"
    },
    "kernelspec": {
      "name": "python3",
      "display_name": "Python 3"
    },
    "language_info": {
      "name": "python"
    }
  },
  "cells": [
    {
      "cell_type": "markdown",
      "source": [
        "# A clean version of Iris dataset."
      ],
      "metadata": {
        "id": "3DwPFbaGBHrt"
      }
    },
    {
      "cell_type": "code",
      "source": [
        "# importing libraries\n",
        "import seaborn as sns\n",
        "import matplotlib.pyplot as plt"
      ],
      "metadata": {
        "id": "8Lmtu1cRAUyc"
      },
      "execution_count": 5,
      "outputs": []
    },
    {
      "cell_type": "code",
      "source": [
        "sns.set_theme( # set some custom styles for visualization\n",
        "    style='whitegrid',\n",
        "    font_scale=1.2,\n",
        ")"
      ],
      "metadata": {
        "id": "NBrzRRxwCtRD"
      },
      "execution_count": 6,
      "outputs": []
    },
    {
      "cell_type": "code",
      "source": [
        "df = sns.load_dataset('iris') # loading the iris dataset to start working on it"
      ],
      "metadata": {
        "id": "az_oPxYICZI2"
      },
      "execution_count": 7,
      "outputs": []
    },
    {
      "cell_type": "code",
      "source": [
        "df.head() # to take a quick look at our data"
      ],
      "metadata": {
        "id": "aCgyd2YuCfi7"
      },
      "execution_count": null,
      "outputs": []
    },
    {
      "cell_type": "code",
      "source": [
        "df.sample(3) # to take a quick look at three samples"
      ],
      "metadata": {
        "id": "EU4aG-aXDGGU"
      },
      "execution_count": null,
      "outputs": []
    },
    {
      "cell_type": "code",
      "source": [],
      "metadata": {
        "id": "Q1ZFNtrgDUnC"
      },
      "execution_count": null,
      "outputs": []
    }
  ]
}